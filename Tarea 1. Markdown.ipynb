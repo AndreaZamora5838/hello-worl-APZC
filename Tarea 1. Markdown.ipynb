{
 "cells": [
  {
   "cell_type": "markdown",
   "id": "47efa6f6",
   "metadata": {},
   "source": [
    "Andrea del Pilar Zamora Cortes 14/08/2023"
   ]
  },
  {
   "cell_type": "markdown",
   "id": "3ff0cf7a",
   "metadata": {},
   "source": [
    "# Presentación  "
   ]
  },
  {
   "cell_type": "markdown",
   "id": "1369db4e",
   "metadata": {},
   "source": [
    "## ¿Quién soy?"
   ]
  },
  {
   "cell_type": "markdown",
   "id": "4a12faaa",
   "metadata": {},
   "source": [
    "Hola, me llamo Andrea del Pilar Zamora Cortes estoy estudiando **ingeniería civil**, tengo 18 años y estoy cursando mi **tercer semestre** y me gustaría enlistar las cosas que más me gusta hacer en mi tiempo libre:\n",
    "\n",
    "- Bailar\n",
    "- Ver películas y series \n",
    "- Escuchar y cantar canciones\n",
    "- Dibujar y colorear"
   ]
  },
  {
   "cell_type": "markdown",
   "id": "b3660b38",
   "metadata": {},
   "source": [
    "## Hidráulica"
   ]
  },
  {
   "cell_type": "markdown",
   "id": "f985114d",
   "metadata": {},
   "source": [
    "Una de las cosas por las cuales me gusto esta carrera fue gracias a la materia de hidráulica, por lo tanto, mostrare una pequeña introducción de esta materia, ya que la cursare hasta el siguiente semestre."
   ]
  },
  {
   "cell_type": "markdown",
   "id": "7a16e2a7",
   "metadata": {},
   "source": [
    "La hidráulica es una rama de la física y la ingeniería que se centra en el estudio de los fluidos en movimiento y cómo se comportan bajo diferentes condiciones. Los fluidos, como el agua y el aceite, son esenciales en la transmisión de energía y fuerza en sistemas mecánicos. \n",
    "\n",
    "\n",
    "La **ley de Pascal** es una fórmula fundamental en hidráulica. La fórmula es: $P= \\frac{F}{A}$\n",
    "\n",
    "Donde:\n",
    "\n",
    "P *es la presión en el fluido*.\n",
    "\n",
    "F *es la fuerza aplicada*.\n",
    "\n",
    "A *es el área sobre la cual se aplica la fuerza*."
   ]
  },
  {
   "cell_type": "markdown",
   "id": "8cae0784",
   "metadata": {},
   "source": [
    "![Descripción de la imagen](https://significado.com/img/cien/principio-de-pascal-exp-a.png)"
   ]
  },
  {
   "cell_type": "markdown",
   "id": "8e4ecae7",
   "metadata": {},
   "source": [
    "### Cuatro ventajas de los sistemas hidráulicos:\n",
    "\n",
    "1. Es un sistema simple al haber pocas piezas en movimiento.\n",
    "2. Las fuerzas que se aplican se pueden regular fácilmente.\n",
    "3. Los elementos son reversibles, además de que se pueden detener en marcha.\n",
    "4. Es ideal para sistemas en los que se requiera aplicar fuerza considerable."
   ]
  }
 ],
 "metadata": {
  "kernelspec": {
   "display_name": "Python 3 (ipykernel)",
   "language": "python",
   "name": "python3"
  },
  "language_info": {
   "codemirror_mode": {
    "name": "ipython",
    "version": 3
   },
   "file_extension": ".py",
   "mimetype": "text/x-python",
   "name": "python",
   "nbconvert_exporter": "python",
   "pygments_lexer": "ipython3",
   "version": "3.11.4"
  }
 },
 "nbformat": 4,
 "nbformat_minor": 5
}
